{
  "nbformat": 4,
  "nbformat_minor": 0,
  "metadata": {
    "colab": {
      "provenance": [],
      "authorship_tag": "ABX9TyMBC+DGeJUHEp5jO1Plg6wM",
      "include_colab_link": true
    },
    "kernelspec": {
      "name": "python3",
      "display_name": "Python 3"
    },
    "language_info": {
      "name": "python"
    }
  },
  "cells": [
    {
      "cell_type": "markdown",
      "metadata": {
        "id": "view-in-github",
        "colab_type": "text"
      },
      "source": [
        "<a href=\"https://colab.research.google.com/github/makhlufiaero338/tugas-machine-learning/blob/main/tugasperbaikan/Tugas_perbaikan_bab4.ipynb\" target=\"_parent\"><img src=\"https://colab.research.google.com/assets/colab-badge.svg\" alt=\"Open In Colab\"/></a>"
      ]
    },
    {
      "cell_type": "code",
      "execution_count": 1,
      "metadata": {
        "colab": {
          "base_uri": "https://localhost:8080/"
        },
        "id": "ak0Sv_THm35I",
        "outputId": "524697a8-0496-4ca8-eba9-13dad44bf657"
      },
      "outputs": [
        {
          "output_type": "stream",
          "name": "stdout",
          "text": [
            "Requirement already satisfied: pandas in /usr/local/lib/python3.10/dist-packages (2.2.2)\n",
            "Requirement already satisfied: numpy in /usr/local/lib/python3.10/dist-packages (1.26.4)\n",
            "Requirement already satisfied: scikit-learn in /usr/local/lib/python3.10/dist-packages (1.6.0)\n",
            "Requirement already satisfied: python-dateutil>=2.8.2 in /usr/local/lib/python3.10/dist-packages (from pandas) (2.8.2)\n",
            "Requirement already satisfied: pytz>=2020.1 in /usr/local/lib/python3.10/dist-packages (from pandas) (2024.2)\n",
            "Requirement already satisfied: tzdata>=2022.7 in /usr/local/lib/python3.10/dist-packages (from pandas) (2024.2)\n",
            "Requirement already satisfied: scipy>=1.6.0 in /usr/local/lib/python3.10/dist-packages (from scikit-learn) (1.13.1)\n",
            "Requirement already satisfied: joblib>=1.2.0 in /usr/local/lib/python3.10/dist-packages (from scikit-learn) (1.4.2)\n",
            "Requirement already satisfied: threadpoolctl>=3.1.0 in /usr/local/lib/python3.10/dist-packages (from scikit-learn) (3.5.0)\n",
            "Requirement already satisfied: six>=1.5 in /usr/local/lib/python3.10/dist-packages (from python-dateutil>=2.8.2->pandas) (1.17.0)\n"
          ]
        }
      ],
      "source": [
        "# Install necessary libraries (if needed)\n",
        "!pip install pandas numpy scikit-learn"
      ]
    },
    {
      "cell_type": "code",
      "source": [
        "# Import libraries\n",
        "import numpy as np\n",
        "import pandas as pd\n",
        "from sklearn.model_selection import train_test_split\n",
        "from sklearn.preprocessing import OneHotEncoder, StandardScaler, PolynomialFeatures\n",
        "from sklearn.feature_selection import SelectKBest, f_classif, RFE\n",
        "from sklearn.ensemble import RandomForestClassifier\n",
        "from sklearn.linear_model import LogisticRegression\n",
        "from sklearn.pipeline import Pipeline"
      ],
      "metadata": {
        "id": "kNDYNdKEnnOb"
      },
      "execution_count": 2,
      "outputs": []
    },
    {
      "cell_type": "code",
      "source": [
        "# Generate synthetic data\n",
        "np.random.seed(42)\n",
        "data = pd.DataFrame({\n",
        "    'Age': np.random.randint(18, 70, size=100),\n",
        "    'Gender': np.random.choice(['Male', 'Female'], size=100),\n",
        "    'Income': np.random.randint(20000, 100000, size=100),\n",
        "    'Category': np.random.choice(['A', 'B', 'C'], size=100),\n",
        "    'Target': np.random.choice([0, 1], size=100)\n",
        "})\n",
        "\n",
        "print(\"Sample Data:\")\n",
        "print(data.head())"
      ],
      "metadata": {
        "colab": {
          "base_uri": "https://localhost:8080/"
        },
        "id": "8WJtzAkCnwjG",
        "outputId": "4283785b-df6d-480e-bb29-074f3131c5ee"
      },
      "execution_count": 3,
      "outputs": [
        {
          "output_type": "stream",
          "name": "stdout",
          "text": [
            "Sample Data:\n",
            "   Age Gender  Income Category  Target\n",
            "0   56   Male   45939        C       1\n",
            "1   69   Male   68925        A       0\n",
            "2   46   Male   62941        B       1\n",
            "3   32   Male   41834        B       0\n",
            "4   60   Male   38047        C       1\n"
          ]
        }
      ]
    },
    {
      "cell_type": "code",
      "source": [
        "# 1. One-Hot-Encoding (Dummy Variables)\n",
        "encoder = OneHotEncoder(sparse_output=False)\n",
        "encoded_categories = encoder.fit_transform(data[['Category']])\n",
        "category_cols = encoder.get_feature_names_out(['Category'])\n",
        "encoded_df = pd.DataFrame(encoded_categories, columns=category_cols)\n",
        "\n",
        "# Add encoded categories back to data\n",
        "data = data.drop('Category', axis=1)\n",
        "data = pd.concat([data, encoded_df], axis=1)"
      ],
      "metadata": {
        "id": "ZuEF-jGKn0nr"
      },
      "execution_count": 4,
      "outputs": []
    },
    {
      "cell_type": "code",
      "source": [
        "# 2. Numbers Can Encode Categoricals\n",
        "# Example: Convert 'Gender' to 0 (Male) and 1 (Female)\n",
        "data['Gender'] = data['Gender'].map({'Male': 0, 'Female': 1})"
      ],
      "metadata": {
        "id": "dEqDsF0fn31Z"
      },
      "execution_count": 5,
      "outputs": []
    },
    {
      "cell_type": "code",
      "source": [
        "# 3. Binning (Discretization)\n",
        "data['Age_Bin'] = pd.cut(data['Age'], bins=[0, 25, 50, 75], labels=['Young', 'Middle-aged', 'Senior'])"
      ],
      "metadata": {
        "id": "wUO1A3tBn8ZK"
      },
      "execution_count": 6,
      "outputs": []
    },
    {
      "cell_type": "code",
      "source": [
        "# 4. Interactions and Polynomials\n",
        "poly = PolynomialFeatures(degree=2, interaction_only=True, include_bias=False)\n",
        "poly_features = poly.fit_transform(data[['Age', 'Income']])\n",
        "poly_feature_names = poly.get_feature_names_out(['Age', 'Income'])\n",
        "\n",
        "poly_df = pd.DataFrame(poly_features, columns=poly_feature_names)\n",
        "data = pd.concat([data, poly_df], axis=1)"
      ],
      "metadata": {
        "id": "G6iPBYJzn-wA"
      },
      "execution_count": 7,
      "outputs": []
    },
    {
      "cell_type": "code",
      "source": [
        "# 5. Univariate Nonlinear Transformations\n",
        "data['Log_Income'] = np.log(data['Income'].iloc[:, 0] + 1 if isinstance(data['Income'], pd.DataFrame) else data['Income'] + 1)\n",
        "\n",
        "# Split data into features and target\n",
        "X = data.drop(['Target', 'Age_Bin'], axis=1)\n",
        "y = data['Target']"
      ],
      "metadata": {
        "id": "S8UeEzR0oCKX"
      },
      "execution_count": 10,
      "outputs": []
    },
    {
      "cell_type": "code",
      "source": [
        "# 6. Automatic Feature Selection\n",
        "# Univariate Statistics\n",
        "select_k_best = SelectKBest(score_func=f_classif, k=5)\n",
        "X_selected = select_k_best.fit_transform(X, y)\n",
        "print(\"Selected Features (Univariate):\")\n",
        "print(X.columns[select_k_best.get_support()])\n",
        "\n",
        "# Model-Based Feature Selection\n",
        "rf_model = RandomForestClassifier()\n",
        "rf_model.fit(X, y)\n",
        "important_features = pd.Series(rf_model.feature_importances_, index=X.columns).sort_values(ascending=False)\n",
        "print(\"\\nFeature Importances (Random Forest):\")\n",
        "print(important_features.head())"
      ],
      "metadata": {
        "colab": {
          "base_uri": "https://localhost:8080/"
        },
        "id": "E5uws0IOoWAH",
        "outputId": "267b0afc-d91e-4bf9-ea81-1559b0236306"
      },
      "execution_count": 11,
      "outputs": [
        {
          "output_type": "stream",
          "name": "stdout",
          "text": [
            "Selected Features (Univariate):\n",
            "Index(['Gender', 'Category_A', 'Category_B', 'Category_C', 'Income'], dtype='object')\n",
            "\n",
            "Feature Importances (Random Forest):\n",
            "Log_Income    0.172412\n",
            "Income        0.154491\n",
            "Age Income    0.140689\n",
            "Income        0.139942\n",
            "Age           0.134565\n",
            "dtype: float64\n"
          ]
        }
      ]
    },
    {
      "cell_type": "code",
      "source": [
        "# Iterative Feature Selection\n",
        "log_reg = LogisticRegression(max_iter=1000)\n",
        "rfe = RFE(log_reg, n_features_to_select=5)\n",
        "rfe.fit(X, y)\n",
        "print(\"\\nSelected Features (RFE):\")\n",
        "print(X.columns[rfe.support_])"
      ],
      "metadata": {
        "colab": {
          "base_uri": "https://localhost:8080/"
        },
        "id": "KtV1ZQdpod7Y",
        "outputId": "43b3e974-e3c4-46ed-8df8-3b85c354fcc0"
      },
      "execution_count": 12,
      "outputs": [
        {
          "output_type": "stream",
          "name": "stderr",
          "text": [
            "/usr/local/lib/python3.10/dist-packages/sklearn/linear_model/_logistic.py:465: ConvergenceWarning: lbfgs failed to converge (status=1):\n",
            "STOP: TOTAL NO. of ITERATIONS REACHED LIMIT.\n",
            "\n",
            "Increase the number of iterations (max_iter) or scale the data as shown in:\n",
            "    https://scikit-learn.org/stable/modules/preprocessing.html\n",
            "Please also refer to the documentation for alternative solver options:\n",
            "    https://scikit-learn.org/stable/modules/linear_model.html#logistic-regression\n",
            "  n_iter_i = _check_optimize_result(\n",
            "/usr/local/lib/python3.10/dist-packages/sklearn/linear_model/_logistic.py:465: ConvergenceWarning: lbfgs failed to converge (status=1):\n",
            "STOP: TOTAL NO. of ITERATIONS REACHED LIMIT.\n",
            "\n",
            "Increase the number of iterations (max_iter) or scale the data as shown in:\n",
            "    https://scikit-learn.org/stable/modules/preprocessing.html\n",
            "Please also refer to the documentation for alternative solver options:\n",
            "    https://scikit-learn.org/stable/modules/linear_model.html#logistic-regression\n",
            "  n_iter_i = _check_optimize_result(\n"
          ]
        },
        {
          "output_type": "stream",
          "name": "stdout",
          "text": [
            "\n",
            "Selected Features (RFE):\n",
            "Index(['Gender', 'Category_A', 'Category_B', 'Category_C', 'Log_Income'], dtype='object')\n"
          ]
        }
      ]
    },
    {
      "cell_type": "code",
      "source": [
        "# Summary\n",
        "print(\"\\nFinal Processed Data Sample:\")\n",
        "print(data.head())"
      ],
      "metadata": {
        "colab": {
          "base_uri": "https://localhost:8080/"
        },
        "id": "hqbR8VRUojGp",
        "outputId": "4e3561b1-d2d1-47ee-a0d7-8a751e01f46c"
      },
      "execution_count": 13,
      "outputs": [
        {
          "output_type": "stream",
          "name": "stdout",
          "text": [
            "\n",
            "Final Processed Data Sample:\n",
            "   Age  Gender  Income  Target  Category_A  Category_B  Category_C  \\\n",
            "0   56       0   45939       1         0.0         0.0         1.0   \n",
            "1   69       0   68925       0         1.0         0.0         0.0   \n",
            "2   46       0   62941       1         0.0         1.0         0.0   \n",
            "3   32       0   41834       0         0.0         1.0         0.0   \n",
            "4   60       0   38047       1         0.0         0.0         1.0   \n",
            "\n",
            "       Age_Bin   Age   Income  Age Income  Log_Income  \n",
            "0       Senior  56.0  45939.0   2572584.0   10.735091  \n",
            "1       Senior  69.0  68925.0   4755825.0   11.140789  \n",
            "2  Middle-aged  46.0  62941.0   2895286.0   11.049969  \n",
            "3  Middle-aged  32.0  41834.0   1338688.0   10.641489  \n",
            "4       Senior  60.0  38047.0   2282820.0   10.546604  \n"
          ]
        }
      ]
    }
  ]
}