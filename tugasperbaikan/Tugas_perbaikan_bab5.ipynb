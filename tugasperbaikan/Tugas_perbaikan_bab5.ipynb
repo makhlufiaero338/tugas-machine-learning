{
  "nbformat": 4,
  "nbformat_minor": 0,
  "metadata": {
    "colab": {
      "provenance": [],
      "authorship_tag": "ABX9TyMYTxcNbPyCV8zbXd5qjsmR",
      "include_colab_link": true
    },
    "kernelspec": {
      "name": "python3",
      "display_name": "Python 3"
    },
    "language_info": {
      "name": "python"
    }
  },
  "cells": [
    {
      "cell_type": "markdown",
      "metadata": {
        "id": "view-in-github",
        "colab_type": "text"
      },
      "source": [
        "<a href=\"https://colab.research.google.com/github/makhlufiaero338/tugas-machine-learning/blob/main/tugasperbaikan/Tugas_perbaikan_bab5.ipynb\" target=\"_parent\"><img src=\"https://colab.research.google.com/assets/colab-badge.svg\" alt=\"Open In Colab\"/></a>"
      ]
    },
    {
      "cell_type": "code",
      "execution_count": 1,
      "metadata": {
        "colab": {
          "base_uri": "https://localhost:8080/"
        },
        "id": "LYX-Ws50j5B8",
        "outputId": "be694da5-6aa2-4031-c9fe-651e1ad4bab3"
      },
      "outputs": [
        {
          "output_type": "stream",
          "name": "stdout",
          "text": [
            "Requirement already satisfied: pandas in /usr/local/lib/python3.10/dist-packages (2.2.2)\n",
            "Requirement already satisfied: numpy in /usr/local/lib/python3.10/dist-packages (1.26.4)\n",
            "Requirement already satisfied: scikit-learn in /usr/local/lib/python3.10/dist-packages (1.6.0)\n",
            "Requirement already satisfied: python-dateutil>=2.8.2 in /usr/local/lib/python3.10/dist-packages (from pandas) (2.8.2)\n",
            "Requirement already satisfied: pytz>=2020.1 in /usr/local/lib/python3.10/dist-packages (from pandas) (2024.2)\n",
            "Requirement already satisfied: tzdata>=2022.7 in /usr/local/lib/python3.10/dist-packages (from pandas) (2024.2)\n",
            "Requirement already satisfied: scipy>=1.6.0 in /usr/local/lib/python3.10/dist-packages (from scikit-learn) (1.13.1)\n",
            "Requirement already satisfied: joblib>=1.2.0 in /usr/local/lib/python3.10/dist-packages (from scikit-learn) (1.4.2)\n",
            "Requirement already satisfied: threadpoolctl>=3.1.0 in /usr/local/lib/python3.10/dist-packages (from scikit-learn) (3.5.0)\n",
            "Requirement already satisfied: six>=1.5 in /usr/local/lib/python3.10/dist-packages (from python-dateutil>=2.8.2->pandas) (1.17.0)\n"
          ]
        }
      ],
      "source": [
        "# Install necessary libraries (if not already installed)\n",
        "!pip install pandas numpy scikit-learn"
      ]
    },
    {
      "cell_type": "code",
      "source": [
        "# Import libraries\n",
        "import numpy as np\n",
        "import pandas as pd\n",
        "from sklearn.model_selection import train_test_split, cross_val_score, GridSearchCV, StratifiedKFold\n",
        "from sklearn.metrics import classification_report, roc_auc_score, mean_squared_error, accuracy_score\n",
        "from sklearn.ensemble import RandomForestClassifier\n",
        "from sklearn.linear_model import LogisticRegression\n",
        "from sklearn.svm import SVC\n",
        "from sklearn.datasets import make_classification, make_regression"
      ],
      "metadata": {
        "id": "nJvVEKUplVOT"
      },
      "execution_count": 2,
      "outputs": []
    },
    {
      "cell_type": "code",
      "source": [
        "# Generate synthetic data for classification and regression tasks\n",
        "X_class, y_class = make_classification(n_samples=500, n_features=10, n_informative=5, n_classes=2, random_state=42)\n",
        "X_reg, y_reg = make_regression(n_samples=500, n_features=10, noise=0.1, random_state=42)"
      ],
      "metadata": {
        "id": "pkkSNVBVlXWu"
      },
      "execution_count": 3,
      "outputs": []
    },
    {
      "cell_type": "code",
      "source": [
        "# Split data into training and testing sets\n",
        "X_train_class, X_test_class, y_train_class, y_test_class = train_test_split(X_class, y_class, test_size=0.2, random_state=42)\n",
        "X_train_reg, X_test_reg, y_train_reg, y_test_reg = train_test_split(X_reg, y_reg, test_size=0.2, random_state=42)"
      ],
      "metadata": {
        "id": "6hp1GScelgBd"
      },
      "execution_count": 4,
      "outputs": []
    },
    {
      "cell_type": "code",
      "source": [
        "# ----------------------------------------\n",
        "# Cross-Validation\n",
        "# ----------------------------------------\n",
        "\n",
        "# Cross-validation example\n",
        "clf = RandomForestClassifier(random_state=42)\n",
        "cv_scores = cross_val_score(clf, X_train_class, y_train_class, cv=5)\n",
        "print(\"Cross-Validation Scores:\", cv_scores)\n",
        "print(\"Mean CV Score:\", np.mean(cv_scores))\n",
        "\n",
        "# Stratified K-Fold Cross-Validation\n",
        "skf = StratifiedKFold(n_splits=5)\n",
        "stratified_scores = []\n",
        "for train_idx, test_idx in skf.split(X_train_class, y_train_class):\n",
        "    clf.fit(X_train_class[train_idx], y_train_class[train_idx])\n",
        "    score = clf.score(X_train_class[test_idx], y_train_class[test_idx])\n",
        "    stratified_scores.append(score)\n",
        "print(\"\\nStratified K-Fold Scores:\", stratified_scores)"
      ],
      "metadata": {
        "colab": {
          "base_uri": "https://localhost:8080/"
        },
        "id": "NxV3D7NDlk0u",
        "outputId": "6eda3197-4a07-404b-8196-5a1202f9518a"
      },
      "execution_count": 5,
      "outputs": [
        {
          "output_type": "stream",
          "name": "stdout",
          "text": [
            "Cross-Validation Scores: [0.925  0.925  0.925  0.9    0.8875]\n",
            "Mean CV Score: 0.9125\n",
            "\n",
            "Stratified K-Fold Scores: [0.925, 0.925, 0.925, 0.9, 0.8875]\n"
          ]
        }
      ]
    },
    {
      "cell_type": "code",
      "source": [
        "# ----------------------------------------\n",
        "# Grid Search\n",
        "# ----------------------------------------\n",
        "\n",
        "# Simple Grid Search\n",
        "param_grid = {'n_estimators': [10, 50, 100], 'max_depth': [None, 10, 20]}\n",
        "grid_search = GridSearchCV(RandomForestClassifier(random_state=42), param_grid, cv=3)\n",
        "grid_search.fit(X_train_class, y_train_class)\n",
        "print(\"\\nBest Parameters (Grid Search):\", grid_search.best_params_)\n",
        "\n",
        "# Grid Search with Cross-Validation\n",
        "svc_param_grid = {'C': [0.1, 1, 10], 'kernel': ['linear', 'rbf']}\n",
        "svc_grid_search = GridSearchCV(SVC(), svc_param_grid, cv=5, scoring='accuracy')\n",
        "svc_grid_search.fit(X_train_class, y_train_class)\n",
        "print(\"\\nBest Parameters (SVC Grid Search with Cross-Validation):\", svc_grid_search.best_params_)\n"
      ],
      "metadata": {
        "colab": {
          "base_uri": "https://localhost:8080/"
        },
        "id": "l48uckCHlrDc",
        "outputId": "d160407c-a64a-4f6e-a769-48f944cf24c1"
      },
      "execution_count": 6,
      "outputs": [
        {
          "output_type": "stream",
          "name": "stdout",
          "text": [
            "\n",
            "Best Parameters (Grid Search): {'max_depth': None, 'n_estimators': 100}\n",
            "\n",
            "Best Parameters (SVC Grid Search with Cross-Validation): {'C': 10, 'kernel': 'rbf'}\n"
          ]
        }
      ]
    },
    {
      "cell_type": "code",
      "source": [
        "# ----------------------------------------\n",
        "# Evaluation Metrics\n",
        "# ----------------------------------------\n",
        "\n",
        "# Metrics for Binary Classification\n",
        "best_clf = grid_search.best_estimator_\n",
        "y_pred = best_clf.predict(X_test_class)\n",
        "print(\"\\nClassification Report:\")\n",
        "print(classification_report(y_test_class, y_pred))\n",
        "print(\"ROC-AUC Score:\", roc_auc_score(y_test_class, best_clf.predict_proba(X_test_class)[:, 1]))\n",
        "\n",
        "# Metrics for Multiclass Classification (using synthetic multiclass dataset)\n",
        "X_multi, y_multi = make_classification(n_samples=500, n_features=10, n_classes=3, n_informative=5, random_state=42)\n",
        "X_train_multi, X_test_multi, y_train_multi, y_test_multi = train_test_split(X_multi, y_multi, test_size=0.2, random_state=42)\n",
        "multi_clf = RandomForestClassifier(random_state=42)\n",
        "multi_clf.fit(X_train_multi, y_train_multi)\n",
        "y_pred_multi = multi_clf.predict(X_test_multi)\n",
        "print(\"\\nClassification Report (Multiclass):\")\n",
        "print(classification_report(y_test_multi, y_pred_multi))\n",
        "\n"
      ],
      "metadata": {
        "colab": {
          "base_uri": "https://localhost:8080/"
        },
        "id": "1cfKHilQluMt",
        "outputId": "bc88d419-4dc2-4676-a082-9c002413f32d"
      },
      "execution_count": 8,
      "outputs": [
        {
          "output_type": "stream",
          "name": "stdout",
          "text": [
            "\n",
            "Classification Report:\n",
            "              precision    recall  f1-score   support\n",
            "\n",
            "           0       0.89      0.96      0.92        50\n",
            "           1       0.96      0.88      0.92        50\n",
            "\n",
            "    accuracy                           0.92       100\n",
            "   macro avg       0.92      0.92      0.92       100\n",
            "weighted avg       0.92      0.92      0.92       100\n",
            "\n",
            "ROC-AUC Score: 0.9674\n",
            "\n",
            "Classification Report (Multiclass):\n",
            "              precision    recall  f1-score   support\n",
            "\n",
            "           0       0.78      0.93      0.85        30\n",
            "           1       0.77      0.97      0.86        35\n",
            "           2       0.85      0.49      0.62        35\n",
            "\n",
            "    accuracy                           0.79       100\n",
            "   macro avg       0.80      0.80      0.78       100\n",
            "weighted avg       0.80      0.79      0.77       100\n",
            "\n"
          ]
        }
      ]
    },
    {
      "cell_type": "code",
      "source": [
        "# Regression Metrics (Fixed)\n",
        "from sklearn.ensemble import RandomForestRegressor\n",
        "\n",
        "# Menggunakan model regresi yang sesuai\n",
        "reg_model = RandomForestRegressor(random_state=42)\n",
        "reg_model.fit(X_train_reg, y_train_reg)\n",
        "y_pred_reg = reg_model.predict(X_test_reg)\n",
        "\n",
        "# Evaluasi dengan Mean Squared Error\n",
        "print(\"\\nMean Squared Error (Regression):\", mean_squared_error(y_test_reg, y_pred_reg))\n"
      ],
      "metadata": {
        "colab": {
          "base_uri": "https://localhost:8080/"
        },
        "id": "77dqqPs6l12F",
        "outputId": "97d45bd8-0d64-4ff6-9a2f-628ce1b54bb5"
      },
      "execution_count": 10,
      "outputs": [
        {
          "output_type": "stream",
          "name": "stdout",
          "text": [
            "\n",
            "Mean Squared Error (Regression): 4046.179121828416\n"
          ]
        }
      ]
    },
    {
      "cell_type": "code",
      "source": [
        "# ----------------------------------------\n",
        "# Summary\n",
        "# ----------------------------------------\n",
        "\n",
        "# Final summary of models and metrics\n",
        "print(\"\\nSummary:\")\n",
        "print(f\"Binary Classification ROC-AUC Score: {roc_auc_score(y_test_class, best_clf.predict_proba(X_test_class)[:, 1])}\")\n",
        "print(f\"Regression Mean Squared Error: {mean_squared_error(y_test_reg, y_pred_reg)}\")"
      ],
      "metadata": {
        "colab": {
          "base_uri": "https://localhost:8080/"
        },
        "id": "P6C-j1MIl_A1",
        "outputId": "c684cd6b-4ec7-40f4-c4bd-8af70745a092"
      },
      "execution_count": 11,
      "outputs": [
        {
          "output_type": "stream",
          "name": "stdout",
          "text": [
            "\n",
            "Summary:\n",
            "Binary Classification ROC-AUC Score: 0.9674\n",
            "Regression Mean Squared Error: 4046.179121828416\n"
          ]
        }
      ]
    }
  ]
}